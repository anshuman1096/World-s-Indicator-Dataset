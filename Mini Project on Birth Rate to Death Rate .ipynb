{
 "cells": [
  {
   "cell_type": "code",
   "execution_count": null,
   "metadata": {},
   "outputs": [],
   "source": [
    "# Data Set: World-Development-Indicators"
   ]
  },
  {
   "cell_type": "markdown",
   "metadata": {},
   "source": [
    "<br><p style=\"font-family: Arial; font-size:3.75em;color:purple; font-style:bold\">\n",
    "Mini Project <br></p><br>\n",
    "## Ratio of Birth Rate to Death Rate for Top 5 countries with highest C02 emissions in 2010"
   ]
  },
  {
   "cell_type": "code",
   "execution_count": 2,
   "metadata": {},
   "outputs": [],
   "source": [
    "%matplotlib inline\n",
    "import numpy as np\n",
    "import pandas as pd\n",
    "import matplotlib.pyplot as plt"
   ]
  },
  {
   "cell_type": "markdown",
   "metadata": {},
   "source": [
    "### What is the shape of dataset?"
   ]
  },
  {
   "cell_type": "code",
   "execution_count": 3,
   "metadata": {},
   "outputs": [
    {
     "data": {
      "text/plain": [
       "(5656458, 6)"
      ]
     },
     "execution_count": 3,
     "metadata": {},
     "output_type": "execute_result"
    }
   ],
   "source": [
    "data = pd.read_csv('./Indicators.csv')\n",
    "data.shape"
   ]
  },
  {
   "cell_type": "markdown",
   "metadata": {},
   "source": [
    "### Finding out Top 5 countries with highest CO2 emission for year 2010"
   ]
  },
  {
   "cell_type": "code",
   "execution_count": 4,
   "metadata": {},
   "outputs": [
    {
     "data": {
      "text/html": [
       "<div>\n",
       "<style scoped>\n",
       "    .dataframe tbody tr th:only-of-type {\n",
       "        vertical-align: middle;\n",
       "    }\n",
       "\n",
       "    .dataframe tbody tr th {\n",
       "        vertical-align: top;\n",
       "    }\n",
       "\n",
       "    .dataframe thead th {\n",
       "        text-align: right;\n",
       "    }\n",
       "</style>\n",
       "<table border=\"1\" class=\"dataframe\">\n",
       "  <thead>\n",
       "    <tr style=\"text-align: right;\">\n",
       "      <th></th>\n",
       "      <th>CountryName</th>\n",
       "      <th>CountryCode</th>\n",
       "      <th>IndicatorName</th>\n",
       "      <th>IndicatorCode</th>\n",
       "      <th>Year</th>\n",
       "      <th>Value</th>\n",
       "    </tr>\n",
       "  </thead>\n",
       "  <tbody>\n",
       "    <tr>\n",
       "      <th>4982884</th>\n",
       "      <td>Qatar</td>\n",
       "      <td>QAT</td>\n",
       "      <td>CO2 emissions (metric tons per capita)</td>\n",
       "      <td>EN.ATM.CO2E.PC</td>\n",
       "      <td>2010</td>\n",
       "      <td>42.639076</td>\n",
       "    </tr>\n",
       "    <tr>\n",
       "      <th>5010994</th>\n",
       "      <td>Trinidad and Tobago</td>\n",
       "      <td>TTO</td>\n",
       "      <td>CO2 emissions (metric tons per capita)</td>\n",
       "      <td>EN.ATM.CO2E.PC</td>\n",
       "      <td>2010</td>\n",
       "      <td>38.337841</td>\n",
       "    </tr>\n",
       "    <tr>\n",
       "      <th>4941965</th>\n",
       "      <td>Kuwait</td>\n",
       "      <td>KWT</td>\n",
       "      <td>CO2 emissions (metric tons per capita)</td>\n",
       "      <td>EN.ATM.CO2E.PC</td>\n",
       "      <td>2010</td>\n",
       "      <td>29.693433</td>\n",
       "    </tr>\n",
       "    <tr>\n",
       "      <th>4868476</th>\n",
       "      <td>Aruba</td>\n",
       "      <td>ABW</td>\n",
       "      <td>CO2 emissions (metric tons per capita)</td>\n",
       "      <td>EN.ATM.CO2E.PC</td>\n",
       "      <td>2010</td>\n",
       "      <td>24.182702</td>\n",
       "    </tr>\n",
       "    <tr>\n",
       "      <th>4883411</th>\n",
       "      <td>Brunei Darussalam</td>\n",
       "      <td>BRN</td>\n",
       "      <td>CO2 emissions (metric tons per capita)</td>\n",
       "      <td>EN.ATM.CO2E.PC</td>\n",
       "      <td>2010</td>\n",
       "      <td>21.873222</td>\n",
       "    </tr>\n",
       "  </tbody>\n",
       "</table>\n",
       "</div>"
      ],
      "text/plain": [
       "                 CountryName CountryCode  \\\n",
       "4982884                Qatar         QAT   \n",
       "5010994  Trinidad and Tobago         TTO   \n",
       "4941965               Kuwait         KWT   \n",
       "4868476                Aruba         ABW   \n",
       "4883411    Brunei Darussalam         BRN   \n",
       "\n",
       "                                  IndicatorName   IndicatorCode  Year  \\\n",
       "4982884  CO2 emissions (metric tons per capita)  EN.ATM.CO2E.PC  2010   \n",
       "5010994  CO2 emissions (metric tons per capita)  EN.ATM.CO2E.PC  2010   \n",
       "4941965  CO2 emissions (metric tons per capita)  EN.ATM.CO2E.PC  2010   \n",
       "4868476  CO2 emissions (metric tons per capita)  EN.ATM.CO2E.PC  2010   \n",
       "4883411  CO2 emissions (metric tons per capita)  EN.ATM.CO2E.PC  2010   \n",
       "\n",
       "             Value  \n",
       "4982884  42.639076  \n",
       "5010994  38.337841  \n",
       "4941965  29.693433  \n",
       "4868476  24.182702  \n",
       "4883411  21.873222  "
      ]
     },
     "execution_count": 4,
     "metadata": {},
     "output_type": "execute_result"
    }
   ],
   "source": [
    "hist_indicator = 'CO2 emissions \\(metric'\n",
    "hist_year = 2010\n",
    "\n",
    "mask1 = data['IndicatorName'].str.contains(hist_indicator)\n",
    "mask2 = data['Year'].isin([hist_year])\n",
    "\n",
    "co2_2010 = data[mask1 & mask2]\n",
    "co2_top5 = co2_2010.sort_values(['Value'],ascending=False).head()\n",
    "co2_top5"
   ]
  },
  {
   "cell_type": "markdown",
   "metadata": {},
   "source": [
    "### Storing countries into a list"
   ]
  },
  {
   "cell_type": "code",
   "execution_count": 5,
   "metadata": {},
   "outputs": [
    {
     "data": {
      "text/plain": [
       "['Qatar', 'Trinidad and Tobago', 'Kuwait', 'Aruba', 'Brunei Darussalam']"
      ]
     },
     "execution_count": 5,
     "metadata": {},
     "output_type": "execute_result"
    }
   ],
   "source": [
    "l1 = co2_top5['CountryName'].unique().tolist()\n",
    "l1"
   ]
  },
  {
   "cell_type": "markdown",
   "metadata": {},
   "source": [
    "### Death Rate and Birth Rate for Top 5 countries with CO2 emissions"
   ]
  },
  {
   "cell_type": "code",
   "execution_count": 6,
   "metadata": {},
   "outputs": [],
   "source": [
    "death_rate = pd.DataFrame()\n",
    "birth_rate = pd.DataFrame()\n",
    "\n",
    "for i in l1:\n",
    "    hist_indi_death = 'Death rate,'\n",
    "    hist_indi_birth = 'Birth rate,'\n",
    "    \n",
    "    mask1 = data['IndicatorName'].str.contains(hist_indi_death)\n",
    "    mask2 = data['Year'].isin([hist_year])\n",
    "    mask3 = data['CountryName'].str.contains(i)\n",
    "    mask4 = data['IndicatorName'].str.contains(hist_indi_birth)\n",
    "    \n",
    "    \n",
    "    death_rate=death_rate.append(data[mask1 & mask2 & mask3])\n",
    "    birth_rate=birth_rate.append(data[mask4 & mask2 & mask3])"
   ]
  },
  {
   "cell_type": "code",
   "execution_count": 7,
   "metadata": {},
   "outputs": [
    {
     "data": {
      "text/html": [
       "<div>\n",
       "<style scoped>\n",
       "    .dataframe tbody tr th:only-of-type {\n",
       "        vertical-align: middle;\n",
       "    }\n",
       "\n",
       "    .dataframe tbody tr th {\n",
       "        vertical-align: top;\n",
       "    }\n",
       "\n",
       "    .dataframe thead th {\n",
       "        text-align: right;\n",
       "    }\n",
       "</style>\n",
       "<table border=\"1\" class=\"dataframe\">\n",
       "  <thead>\n",
       "    <tr style=\"text-align: right;\">\n",
       "      <th></th>\n",
       "      <th>CountryName</th>\n",
       "      <th>CountryCode</th>\n",
       "      <th>IndicatorName</th>\n",
       "      <th>IndicatorCode</th>\n",
       "      <th>Year</th>\n",
       "      <th>Value</th>\n",
       "    </tr>\n",
       "  </thead>\n",
       "  <tbody>\n",
       "    <tr>\n",
       "      <th>4982912</th>\n",
       "      <td>Qatar</td>\n",
       "      <td>QAT</td>\n",
       "      <td>Death rate, crude (per 1,000 people)</td>\n",
       "      <td>SP.DYN.CDRT.IN</td>\n",
       "      <td>2010</td>\n",
       "      <td>1.554</td>\n",
       "    </tr>\n",
       "    <tr>\n",
       "      <th>5011031</th>\n",
       "      <td>Trinidad and Tobago</td>\n",
       "      <td>TTO</td>\n",
       "      <td>Death rate, crude (per 1,000 people)</td>\n",
       "      <td>SP.DYN.CDRT.IN</td>\n",
       "      <td>2010</td>\n",
       "      <td>9.046</td>\n",
       "    </tr>\n",
       "    <tr>\n",
       "      <th>4942000</th>\n",
       "      <td>Kuwait</td>\n",
       "      <td>KWT</td>\n",
       "      <td>Death rate, crude (per 1,000 people)</td>\n",
       "      <td>SP.DYN.CDRT.IN</td>\n",
       "      <td>2010</td>\n",
       "      <td>2.983</td>\n",
       "    </tr>\n",
       "    <tr>\n",
       "      <th>4868497</th>\n",
       "      <td>Aruba</td>\n",
       "      <td>ABW</td>\n",
       "      <td>Death rate, crude (per 1,000 people)</td>\n",
       "      <td>SP.DYN.CDRT.IN</td>\n",
       "      <td>2010</td>\n",
       "      <td>7.905</td>\n",
       "    </tr>\n",
       "    <tr>\n",
       "      <th>4883434</th>\n",
       "      <td>Brunei Darussalam</td>\n",
       "      <td>BRN</td>\n",
       "      <td>Death rate, crude (per 1,000 people)</td>\n",
       "      <td>SP.DYN.CDRT.IN</td>\n",
       "      <td>2010</td>\n",
       "      <td>2.994</td>\n",
       "    </tr>\n",
       "  </tbody>\n",
       "</table>\n",
       "</div>"
      ],
      "text/plain": [
       "                 CountryName CountryCode  \\\n",
       "4982912                Qatar         QAT   \n",
       "5011031  Trinidad and Tobago         TTO   \n",
       "4942000               Kuwait         KWT   \n",
       "4868497                Aruba         ABW   \n",
       "4883434    Brunei Darussalam         BRN   \n",
       "\n",
       "                                IndicatorName   IndicatorCode  Year  Value  \n",
       "4982912  Death rate, crude (per 1,000 people)  SP.DYN.CDRT.IN  2010  1.554  \n",
       "5011031  Death rate, crude (per 1,000 people)  SP.DYN.CDRT.IN  2010  9.046  \n",
       "4942000  Death rate, crude (per 1,000 people)  SP.DYN.CDRT.IN  2010  2.983  \n",
       "4868497  Death rate, crude (per 1,000 people)  SP.DYN.CDRT.IN  2010  7.905  \n",
       "4883434  Death rate, crude (per 1,000 people)  SP.DYN.CDRT.IN  2010  2.994  "
      ]
     },
     "execution_count": 7,
     "metadata": {},
     "output_type": "execute_result"
    }
   ],
   "source": [
    "death_rate"
   ]
  },
  {
   "cell_type": "code",
   "execution_count": 8,
   "metadata": {},
   "outputs": [
    {
     "data": {
      "text/html": [
       "<div>\n",
       "<style scoped>\n",
       "    .dataframe tbody tr th:only-of-type {\n",
       "        vertical-align: middle;\n",
       "    }\n",
       "\n",
       "    .dataframe tbody tr th {\n",
       "        vertical-align: top;\n",
       "    }\n",
       "\n",
       "    .dataframe thead th {\n",
       "        text-align: right;\n",
       "    }\n",
       "</style>\n",
       "<table border=\"1\" class=\"dataframe\">\n",
       "  <thead>\n",
       "    <tr style=\"text-align: right;\">\n",
       "      <th></th>\n",
       "      <th>CountryName</th>\n",
       "      <th>CountryCode</th>\n",
       "      <th>IndicatorName</th>\n",
       "      <th>IndicatorCode</th>\n",
       "      <th>Year</th>\n",
       "      <th>Value</th>\n",
       "    </tr>\n",
       "  </thead>\n",
       "  <tbody>\n",
       "    <tr>\n",
       "      <th>4982860</th>\n",
       "      <td>Qatar</td>\n",
       "      <td>QAT</td>\n",
       "      <td>Birth rate, crude (per 1,000 people)</td>\n",
       "      <td>SP.DYN.CBRT.IN</td>\n",
       "      <td>2010</td>\n",
       "      <td>12.223</td>\n",
       "    </tr>\n",
       "    <tr>\n",
       "      <th>5010973</th>\n",
       "      <td>Trinidad and Tobago</td>\n",
       "      <td>TTO</td>\n",
       "      <td>Birth rate, crude (per 1,000 people)</td>\n",
       "      <td>SP.DYN.CBRT.IN</td>\n",
       "      <td>2010</td>\n",
       "      <td>15.199</td>\n",
       "    </tr>\n",
       "    <tr>\n",
       "      <th>4941943</th>\n",
       "      <td>Kuwait</td>\n",
       "      <td>KWT</td>\n",
       "      <td>Birth rate, crude (per 1,000 people)</td>\n",
       "      <td>SP.DYN.CBRT.IN</td>\n",
       "      <td>2010</td>\n",
       "      <td>21.314</td>\n",
       "    </tr>\n",
       "    <tr>\n",
       "      <th>4868472</th>\n",
       "      <td>Aruba</td>\n",
       "      <td>ABW</td>\n",
       "      <td>Birth rate, crude (per 1,000 people)</td>\n",
       "      <td>SP.DYN.CBRT.IN</td>\n",
       "      <td>2010</td>\n",
       "      <td>10.823</td>\n",
       "    </tr>\n",
       "    <tr>\n",
       "      <th>4883386</th>\n",
       "      <td>Brunei Darussalam</td>\n",
       "      <td>BRN</td>\n",
       "      <td>Birth rate, crude (per 1,000 people)</td>\n",
       "      <td>SP.DYN.CBRT.IN</td>\n",
       "      <td>2010</td>\n",
       "      <td>17.499</td>\n",
       "    </tr>\n",
       "  </tbody>\n",
       "</table>\n",
       "</div>"
      ],
      "text/plain": [
       "                 CountryName CountryCode  \\\n",
       "4982860                Qatar         QAT   \n",
       "5010973  Trinidad and Tobago         TTO   \n",
       "4941943               Kuwait         KWT   \n",
       "4868472                Aruba         ABW   \n",
       "4883386    Brunei Darussalam         BRN   \n",
       "\n",
       "                                IndicatorName   IndicatorCode  Year   Value  \n",
       "4982860  Birth rate, crude (per 1,000 people)  SP.DYN.CBRT.IN  2010  12.223  \n",
       "5010973  Birth rate, crude (per 1,000 people)  SP.DYN.CBRT.IN  2010  15.199  \n",
       "4941943  Birth rate, crude (per 1,000 people)  SP.DYN.CBRT.IN  2010  21.314  \n",
       "4868472  Birth rate, crude (per 1,000 people)  SP.DYN.CBRT.IN  2010  10.823  \n",
       "4883386  Birth rate, crude (per 1,000 people)  SP.DYN.CBRT.IN  2010  17.499  "
      ]
     },
     "execution_count": 8,
     "metadata": {},
     "output_type": "execute_result"
    }
   ],
   "source": [
    "birth_rate"
   ]
  },
  {
   "cell_type": "markdown",
   "metadata": {},
   "source": [
    "### List of Birth Rate to Death Rate according to the top 5 countries"
   ]
  },
  {
   "cell_type": "code",
   "execution_count": 10,
   "metadata": {},
   "outputs": [
    {
     "data": {
      "text/plain": [
       "[7.865508365508364,\n",
       " 1.6801901392880834,\n",
       " 7.14515588333892,\n",
       " 1.3691334598355471,\n",
       " 5.844689378757516]"
      ]
     },
     "execution_count": 10,
     "metadata": {},
     "output_type": "execute_result"
    }
   ],
   "source": [
    "l2=[]\n",
    "for i in range(0,5):\n",
    "    l2.append(birth_rate.iloc[i]['Value']/death_rate.iloc[i]['Value'])\n",
    "\n",
    "l2"
   ]
  },
  {
   "cell_type": "markdown",
   "metadata": {},
   "source": [
    "### Visualisation of the Birth Rate to Death Rate for Top 5 countries with highest CO2 Emissions in 2010"
   ]
  },
  {
   "cell_type": "code",
   "execution_count": 11,
   "metadata": {},
   "outputs": [
    {
     "data": {
      "image/png": "[encoded data removed]",
      "text/plain": [
       "<Figure size 432x288 with 1 Axes>"
      ]
     },
     "metadata": {},
     "output_type": "display_data"
    }
   ],
   "source": [
    "fig, axis = plt.subplots()\n",
    "\n",
    "axis.yaxis.grid(True)\n",
    "axis.set_title('Ratio of Birth rate to Death Rate for Top 5 countries with highest CO2 Emissions in 2010',fontsize=20)\n",
    "axis.set_xlabel('Top 5 countries with highest CO2 emissions ',fontsize=15)\n",
    "axis.set_ylabel('Birth Rate to Death Rate',fontsize=15)\n",
    "\n",
    "for i in range(0,5):\n",
    "    x=l1[i]\n",
    "    y=l2[i]\n",
    "\n",
    "    axis.scatter(x,y)\n",
    "\n",
    "plt.show()"
   ]
  },
  {
   "cell_type": "code",
   "execution_count": null,
   "metadata": {},
   "outputs": [],
   "source": []
  }
 ],
 "metadata": {
  "kernelspec": {
   "display_name": "Python 3",
   "language": "python",
   "name": "python3"
  },
  "language_info": {
   "codemirror_mode": {
    "name": "ipython",
    "version": 3
   },
   "file_extension": ".py",
   "mimetype": "text/x-python",
   "name": "python",
   "nbconvert_exporter": "python",
   "pygments_lexer": "ipython3",
   "version": "3.6.5"
  }
 },
 "nbformat": 4,
 "nbformat_minor": 2
}
